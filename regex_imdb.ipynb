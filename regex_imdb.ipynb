{
 "cells": [
  {
   "cell_type": "code",
   "execution_count": 2,
   "id": "suitable-sauce",
   "metadata": {},
   "outputs": [],
   "source": [
    "import pandas as pd"
   ]
  },
  {
   "cell_type": "code",
   "execution_count": 3,
   "id": "affiliated-clinic",
   "metadata": {},
   "outputs": [],
   "source": [
    "import os"
   ]
  },
  {
   "cell_type": "code",
   "execution_count": 4,
   "id": "toxic-hotel",
   "metadata": {},
   "outputs": [],
   "source": [
    "os.chdir(\"C:\\\\Users\\\\m\\\\Desktop\\\\project\")"
   ]
  },
  {
   "cell_type": "code",
   "execution_count": 5,
   "id": "extreme-bibliography",
   "metadata": {},
   "outputs": [
    {
     "data": {
      "text/plain": [
       "['regex_imdb-checkpoint.ipynb',\n",
       " 'regex_imdb.csv',\n",
       " 'regex_imdb.ipynb',\n",
       " 'web_scraped_imdb.csv',\n",
       " 'web_scrapping-checkpoint.ipynb',\n",
       " 'web_scrapping.ipynb']"
      ]
     },
     "execution_count": 5,
     "metadata": {},
     "output_type": "execute_result"
    }
   ],
   "source": [
    "os.listdir()"
   ]
  },
  {
   "cell_type": "code",
   "execution_count": 6,
   "id": "technological-fairy",
   "metadata": {},
   "outputs": [],
   "source": [
    "df=pd.read_csv(\"web_scraped_imdb.csv\")"
   ]
  },
  {
   "cell_type": "code",
   "execution_count": 7,
   "id": "documentary-nelson",
   "metadata": {},
   "outputs": [
    {
     "data": {
      "text/html": [
       "<div>\n",
       "<style scoped>\n",
       "    .dataframe tbody tr th:only-of-type {\n",
       "        vertical-align: middle;\n",
       "    }\n",
       "\n",
       "    .dataframe tbody tr th {\n",
       "        vertical-align: top;\n",
       "    }\n",
       "\n",
       "    .dataframe thead th {\n",
       "        text-align: right;\n",
       "    }\n",
       "</style>\n",
       "<table border=\"1\" class=\"dataframe\">\n",
       "  <thead>\n",
       "    <tr style=\"text-align: right;\">\n",
       "      <th></th>\n",
       "      <th>Name</th>\n",
       "      <th>Year</th>\n",
       "      <th>Genre</th>\n",
       "      <th>Run_time</th>\n",
       "      <th>Rating</th>\n",
       "      <th>Meta_score</th>\n",
       "      <th>Director_cast</th>\n",
       "      <th>Votes</th>\n",
       "      <th>Vote_gross</th>\n",
       "    </tr>\n",
       "  </thead>\n",
       "  <tbody>\n",
       "    <tr>\n",
       "      <th>0</th>\n",
       "      <td>The Shawshank Redemption</td>\n",
       "      <td>(1994)</td>\n",
       "      <td>\\nDrama</td>\n",
       "      <td>142 min</td>\n",
       "      <td>9.3</td>\n",
       "      <td>80.0</td>\n",
       "      <td>\\n    Director:\\nFrank Darabont\\n| \\n    Stars...</td>\n",
       "      <td>2,377,480</td>\n",
       "      <td>\\nVotes:\\n2,377,480\\n| Gross:\\n$28.34M\\n</td>\n",
       "    </tr>\n",
       "    <tr>\n",
       "      <th>1</th>\n",
       "      <td>The Godfather</td>\n",
       "      <td>(1972)</td>\n",
       "      <td>\\nCrime, Drama</td>\n",
       "      <td>175 min</td>\n",
       "      <td>9.2</td>\n",
       "      <td>100.0</td>\n",
       "      <td>\\n    Director:\\nFrancis Ford Coppola\\n| \\n   ...</td>\n",
       "      <td>1,646,818</td>\n",
       "      <td>\\nVotes:\\n1,646,818\\n| Gross:\\n$134.97M\\n</td>\n",
       "    </tr>\n",
       "    <tr>\n",
       "      <th>2</th>\n",
       "      <td>The Dark Knight</td>\n",
       "      <td>(2008)</td>\n",
       "      <td>\\nAction, Crime, Drama</td>\n",
       "      <td>152 min</td>\n",
       "      <td>9.0</td>\n",
       "      <td>84.0</td>\n",
       "      <td>\\n    Director:\\nChristopher Nolan\\n| \\n    St...</td>\n",
       "      <td>2,341,261</td>\n",
       "      <td>\\nVotes:\\n2,341,261\\n| Gross:\\n$534.86M\\n</td>\n",
       "    </tr>\n",
       "    <tr>\n",
       "      <th>3</th>\n",
       "      <td>The Godfather: Part II</td>\n",
       "      <td>(1974)</td>\n",
       "      <td>\\nCrime, Drama</td>\n",
       "      <td>202 min</td>\n",
       "      <td>9.0</td>\n",
       "      <td>90.0</td>\n",
       "      <td>\\n    Director:\\nFrancis Ford Coppola\\n| \\n   ...</td>\n",
       "      <td>1,146,666</td>\n",
       "      <td>\\nVotes:\\n1,146,666\\n| Gross:\\n$57.30M\\n</td>\n",
       "    </tr>\n",
       "    <tr>\n",
       "      <th>4</th>\n",
       "      <td>12 Angry Men</td>\n",
       "      <td>(1957)</td>\n",
       "      <td>\\nCrime, Drama</td>\n",
       "      <td>96 min</td>\n",
       "      <td>9.0</td>\n",
       "      <td>96.0</td>\n",
       "      <td>\\n    Director:\\nSidney Lumet\\n| \\n    Stars:\\...</td>\n",
       "      <td>701,882</td>\n",
       "      <td>\\nVotes:\\n701,882\\n| Gross:\\n$4.36M\\n</td>\n",
       "    </tr>\n",
       "    <tr>\n",
       "      <th>...</th>\n",
       "      <td>...</td>\n",
       "      <td>...</td>\n",
       "      <td>...</td>\n",
       "      <td>...</td>\n",
       "      <td>...</td>\n",
       "      <td>...</td>\n",
       "      <td>...</td>\n",
       "      <td>...</td>\n",
       "      <td>...</td>\n",
       "    </tr>\n",
       "    <tr>\n",
       "      <th>995</th>\n",
       "      <td>Breakfast at Tiffany's</td>\n",
       "      <td>(1961)</td>\n",
       "      <td>\\nComedy, Drama, Romance</td>\n",
       "      <td>115 min</td>\n",
       "      <td>7.6</td>\n",
       "      <td>76.0</td>\n",
       "      <td>\\n    Director:\\nBlake Edwards\\n| \\n    Stars:...</td>\n",
       "      <td>168,713</td>\n",
       "      <td>\\nVotes:\\n168,713\\n</td>\n",
       "    </tr>\n",
       "    <tr>\n",
       "      <th>996</th>\n",
       "      <td>Giant</td>\n",
       "      <td>(1956)</td>\n",
       "      <td>\\nDrama, Western</td>\n",
       "      <td>201 min</td>\n",
       "      <td>7.6</td>\n",
       "      <td>84.0</td>\n",
       "      <td>\\n    Director:\\nGeorge Stevens\\n| \\n    Stars...</td>\n",
       "      <td>34,594</td>\n",
       "      <td>\\nVotes:\\n34,594\\n</td>\n",
       "    </tr>\n",
       "    <tr>\n",
       "      <th>997</th>\n",
       "      <td>From Here to Eternity</td>\n",
       "      <td>(1953)</td>\n",
       "      <td>\\nDrama, Romance, War</td>\n",
       "      <td>118 min</td>\n",
       "      <td>7.6</td>\n",
       "      <td>85.0</td>\n",
       "      <td>\\n    Director:\\nFred Zinnemann\\n| \\n    Stars...</td>\n",
       "      <td>43,868</td>\n",
       "      <td>\\nVotes:\\n43,868\\n| Gross:\\n$30.50M\\n</td>\n",
       "    </tr>\n",
       "    <tr>\n",
       "      <th>998</th>\n",
       "      <td>Lifeboat</td>\n",
       "      <td>(1944)</td>\n",
       "      <td>\\nDrama, War</td>\n",
       "      <td>97 min</td>\n",
       "      <td>7.6</td>\n",
       "      <td>78.0</td>\n",
       "      <td>\\n    Director:\\nAlfred Hitchcock\\n| \\n    Sta...</td>\n",
       "      <td>26,791</td>\n",
       "      <td>\\nVotes:\\n26,791\\n</td>\n",
       "    </tr>\n",
       "    <tr>\n",
       "      <th>999</th>\n",
       "      <td>The 39 Steps</td>\n",
       "      <td>(1935)</td>\n",
       "      <td>\\nCrime, Mystery, Thriller</td>\n",
       "      <td>86 min</td>\n",
       "      <td>7.6</td>\n",
       "      <td>93.0</td>\n",
       "      <td>\\n    Director:\\nAlfred Hitchcock\\n| \\n    Sta...</td>\n",
       "      <td>52,688</td>\n",
       "      <td>\\nVotes:\\n52,688\\n</td>\n",
       "    </tr>\n",
       "  </tbody>\n",
       "</table>\n",
       "<p>1000 rows × 9 columns</p>\n",
       "</div>"
      ],
      "text/plain": [
       "                         Name    Year                                   Genre  \\\n",
       "0    The Shawshank Redemption  (1994)                     \\nDrama               \n",
       "1               The Godfather  (1972)              \\nCrime, Drama               \n",
       "2             The Dark Knight  (2008)      \\nAction, Crime, Drama               \n",
       "3      The Godfather: Part II  (1974)              \\nCrime, Drama               \n",
       "4                12 Angry Men  (1957)              \\nCrime, Drama               \n",
       "..                        ...     ...                                     ...   \n",
       "995    Breakfast at Tiffany's  (1961)    \\nComedy, Drama, Romance               \n",
       "996                     Giant  (1956)            \\nDrama, Western               \n",
       "997     From Here to Eternity  (1953)       \\nDrama, Romance, War               \n",
       "998                  Lifeboat  (1944)                \\nDrama, War               \n",
       "999              The 39 Steps  (1935)  \\nCrime, Mystery, Thriller               \n",
       "\n",
       "    Run_time  Rating  Meta_score  \\\n",
       "0    142 min     9.3        80.0   \n",
       "1    175 min     9.2       100.0   \n",
       "2    152 min     9.0        84.0   \n",
       "3    202 min     9.0        90.0   \n",
       "4     96 min     9.0        96.0   \n",
       "..       ...     ...         ...   \n",
       "995  115 min     7.6        76.0   \n",
       "996  201 min     7.6        84.0   \n",
       "997  118 min     7.6        85.0   \n",
       "998   97 min     7.6        78.0   \n",
       "999   86 min     7.6        93.0   \n",
       "\n",
       "                                         Director_cast      Votes  \\\n",
       "0    \\n    Director:\\nFrank Darabont\\n| \\n    Stars...  2,377,480   \n",
       "1    \\n    Director:\\nFrancis Ford Coppola\\n| \\n   ...  1,646,818   \n",
       "2    \\n    Director:\\nChristopher Nolan\\n| \\n    St...  2,341,261   \n",
       "3    \\n    Director:\\nFrancis Ford Coppola\\n| \\n   ...  1,146,666   \n",
       "4    \\n    Director:\\nSidney Lumet\\n| \\n    Stars:\\...    701,882   \n",
       "..                                                 ...        ...   \n",
       "995  \\n    Director:\\nBlake Edwards\\n| \\n    Stars:...    168,713   \n",
       "996  \\n    Director:\\nGeorge Stevens\\n| \\n    Stars...     34,594   \n",
       "997  \\n    Director:\\nFred Zinnemann\\n| \\n    Stars...     43,868   \n",
       "998  \\n    Director:\\nAlfred Hitchcock\\n| \\n    Sta...     26,791   \n",
       "999  \\n    Director:\\nAlfred Hitchcock\\n| \\n    Sta...     52,688   \n",
       "\n",
       "                                    Vote_gross  \n",
       "0     \\nVotes:\\n2,377,480\\n| Gross:\\n$28.34M\\n  \n",
       "1    \\nVotes:\\n1,646,818\\n| Gross:\\n$134.97M\\n  \n",
       "2    \\nVotes:\\n2,341,261\\n| Gross:\\n$534.86M\\n  \n",
       "3     \\nVotes:\\n1,146,666\\n| Gross:\\n$57.30M\\n  \n",
       "4        \\nVotes:\\n701,882\\n| Gross:\\n$4.36M\\n  \n",
       "..                                         ...  \n",
       "995                        \\nVotes:\\n168,713\\n  \n",
       "996                         \\nVotes:\\n34,594\\n  \n",
       "997      \\nVotes:\\n43,868\\n| Gross:\\n$30.50M\\n  \n",
       "998                         \\nVotes:\\n26,791\\n  \n",
       "999                         \\nVotes:\\n52,688\\n  \n",
       "\n",
       "[1000 rows x 9 columns]"
      ]
     },
     "execution_count": 7,
     "metadata": {},
     "output_type": "execute_result"
    }
   ],
   "source": [
    "df"
   ]
  },
  {
   "cell_type": "code",
   "execution_count": 74,
   "id": "ancient-desktop",
   "metadata": {},
   "outputs": [
    {
     "name": "stderr",
     "output_type": "stream",
     "text": [
      "<ipython-input-74-213e91666388>:1: FutureWarning: The default value of regex will change from True to False in a future version.\n",
      "  df[\"Year\"]=df[\"Year\"].str.replace(\"\\D\",\"\")\n"
     ]
    }
   ],
   "source": [
    "df[\"Year\"]=df[\"Year\"].str.replace(\"\\D\",\"\")"
   ]
  },
  {
   "cell_type": "code",
   "execution_count": 75,
   "id": "important-photography",
   "metadata": {},
   "outputs": [],
   "source": [
    "df[\"Genre\"]=df[\"Genre\"].str.replace(\"\\n\",\"\")"
   ]
  },
  {
   "cell_type": "code",
   "execution_count": 76,
   "id": "typical-melissa",
   "metadata": {},
   "outputs": [],
   "source": [
    "df[\"Director_cast\"]=df[\"Director_cast\"].str.replace(\"\\n\",\"\")"
   ]
  },
  {
   "cell_type": "code",
   "execution_count": 77,
   "id": "martial-jackson",
   "metadata": {},
   "outputs": [],
   "source": [
    "df[\"Votes\"]=df[\"Votes\"].str.replace(\",\",\"\")"
   ]
  },
  {
   "cell_type": "code",
   "execution_count": 78,
   "id": "constant-vietnamese",
   "metadata": {},
   "outputs": [],
   "source": [
    "df[\"Vote_gross\"]=df[\"Vote_gross\"].str.replace(\"\\n\",\"\")"
   ]
  },
  {
   "cell_type": "code",
   "execution_count": 79,
   "id": "another-bookmark",
   "metadata": {},
   "outputs": [],
   "source": [
    "df[\"Vote_gross\"]=df[\"Vote_gross\"].str.replace(\",\",\"\")"
   ]
  },
  {
   "cell_type": "code",
   "execution_count": null,
   "id": "enormous-equation",
   "metadata": {},
   "outputs": [],
   "source": []
  },
  {
   "cell_type": "markdown",
   "id": "fourth-fundamentals",
   "metadata": {},
   "source": [
    "# web scraping"
   ]
  },
  {
   "cell_type": "markdown",
   "id": "greater-formula",
   "metadata": {},
   "source": [
    "## 01.Director_cast column:"
   ]
  },
  {
   "cell_type": "markdown",
   "id": "thermal-paintball",
   "metadata": {},
   "source": [
    "###  i) scrape director in director_cast column"
   ]
  },
  {
   "cell_type": "code",
   "execution_count": 8,
   "id": "czech-honolulu",
   "metadata": {},
   "outputs": [],
   "source": [
    "import re"
   ]
  },
  {
   "cell_type": "code",
   "execution_count": 82,
   "id": "attended-convergence",
   "metadata": {},
   "outputs": [],
   "source": [
    "regex = r'[\\sA-Za-z]+\\|'"
   ]
  },
  {
   "cell_type": "code",
   "execution_count": 83,
   "id": "hearing-serve",
   "metadata": {},
   "outputs": [],
   "source": [
    "df[\"Director\"]=df['Director_cast'].apply(lambda x:\"\".join(re.compile(regex).findall(x)))"
   ]
  },
  {
   "cell_type": "code",
   "execution_count": 84,
   "id": "failing-starter",
   "metadata": {},
   "outputs": [
    {
     "name": "stderr",
     "output_type": "stream",
     "text": [
      "<ipython-input-84-587d1ca2b397>:1: FutureWarning: The default value of regex will change from True to False in a future version. In addition, single character regular expressions will*not* be treated as literal strings when regex=True.\n",
      "  df[\"Director\"]=df[\"Director\"].str.replace(\"|\",\"\")\n"
     ]
    }
   ],
   "source": [
    "df[\"Director\"]=df[\"Director\"].str.replace(\"|\",\"\")"
   ]
  },
  {
   "cell_type": "markdown",
   "id": "czech-fields",
   "metadata": {},
   "source": [
    "###  ii) scrape cast in director_cast column"
   ]
  },
  {
   "cell_type": "code",
   "execution_count": 85,
   "id": "grand-concert",
   "metadata": {},
   "outputs": [],
   "source": [
    "casts=[]\n",
    "for i in range(len(df)):\n",
    "    casts.append(re.sub(r'[A-Za-z]+\\:.*\\|',\"\",df[\"Director_cast\"][i]).strip().replace(\"Stars:\",\"\"))"
   ]
  },
  {
   "cell_type": "code",
   "execution_count": 86,
   "id": "breathing-opening",
   "metadata": {},
   "outputs": [],
   "source": [
    "df[\"cast\"]=casts"
   ]
  },
  {
   "cell_type": "markdown",
   "id": "widespread-majority",
   "metadata": {},
   "source": [
    "#### now we get the both the director and cast values we will delete the director_cast Column:"
   ]
  },
  {
   "cell_type": "code",
   "execution_count": 87,
   "id": "transsexual-ferry",
   "metadata": {},
   "outputs": [],
   "source": [
    "del(df[\"Director_cast\"])"
   ]
  },
  {
   "cell_type": "markdown",
   "id": "southeast-majority",
   "metadata": {},
   "source": [
    "## 02.vote_gross"
   ]
  },
  {
   "cell_type": "markdown",
   "id": "genuine-executive",
   "metadata": {},
   "source": [
    "###  i) scrape gross value from vote_gross column"
   ]
  },
  {
   "cell_type": "code",
   "execution_count": 9,
   "id": "exposed-processor",
   "metadata": {},
   "outputs": [],
   "source": [
    "regexs=r\"[$]+[0-9.+]+M\""
   ]
  },
  {
   "cell_type": "code",
   "execution_count": 10,
   "id": "forward-wallpaper",
   "metadata": {},
   "outputs": [],
   "source": [
    "df[\"Gross\"]=df[\"Vote_gross\"].apply(lambda x:\"\".join(re.compile(regexs).findall(x)))"
   ]
  },
  {
   "cell_type": "code",
   "execution_count": 11,
   "id": "declared-panama",
   "metadata": {},
   "outputs": [
    {
     "name": "stderr",
     "output_type": "stream",
     "text": [
      "<ipython-input-11-2cc4e8a5b5ed>:1: FutureWarning: The default value of regex will change from True to False in a future version. In addition, single character regular expressions will*not* be treated as literal strings when regex=True.\n",
      "  df[\"Gross\"]=df[\"Gross\"].str.replace(\"$\",\"\")\n"
     ]
    }
   ],
   "source": [
    "df[\"Gross\"]=df[\"Gross\"].str.replace(\"$\",\"\")"
   ]
  },
  {
   "cell_type": "code",
   "execution_count": 12,
   "id": "large-penny",
   "metadata": {},
   "outputs": [],
   "source": [
    "df[\"Gross\"]=df[\"Gross\"].str.replace(\"M\",\"\")"
   ]
  },
  {
   "cell_type": "markdown",
   "id": "little-entertainment",
   "metadata": {},
   "source": [
    "#### now we got the both the gross and vote  values its better to delete the column:"
   ]
  },
  {
   "cell_type": "code",
   "execution_count": 92,
   "id": "better-covering",
   "metadata": {},
   "outputs": [],
   "source": [
    "del(df[\"Vote_gross\"])"
   ]
  },
  {
   "cell_type": "markdown",
   "id": "solar-anthropology",
   "metadata": {},
   "source": [
    "##  03. Run_time"
   ]
  },
  {
   "cell_type": "markdown",
   "id": "seventh-fight",
   "metadata": {},
   "source": [
    "### remove the Min in runtime "
   ]
  },
  {
   "cell_type": "code",
   "execution_count": 97,
   "id": "assured-briefs",
   "metadata": {},
   "outputs": [],
   "source": [
    "df[\"Run_time\"]=df[\"Run_time\"].str.replace(\"min\",\"\")"
   ]
  },
  {
   "cell_type": "code",
   "execution_count": 13,
   "id": "fuzzy-hindu",
   "metadata": {
    "scrolled": true
   },
   "outputs": [
    {
     "data": {
      "text/html": [
       "<div>\n",
       "<style scoped>\n",
       "    .dataframe tbody tr th:only-of-type {\n",
       "        vertical-align: middle;\n",
       "    }\n",
       "\n",
       "    .dataframe tbody tr th {\n",
       "        vertical-align: top;\n",
       "    }\n",
       "\n",
       "    .dataframe thead th {\n",
       "        text-align: right;\n",
       "    }\n",
       "</style>\n",
       "<table border=\"1\" class=\"dataframe\">\n",
       "  <thead>\n",
       "    <tr style=\"text-align: right;\">\n",
       "      <th></th>\n",
       "      <th>Name</th>\n",
       "      <th>Year</th>\n",
       "      <th>Genre</th>\n",
       "      <th>Run_time</th>\n",
       "      <th>Rating</th>\n",
       "      <th>Meta_score</th>\n",
       "      <th>Director_cast</th>\n",
       "      <th>Votes</th>\n",
       "      <th>Vote_gross</th>\n",
       "      <th>Gross</th>\n",
       "    </tr>\n",
       "  </thead>\n",
       "  <tbody>\n",
       "    <tr>\n",
       "      <th>0</th>\n",
       "      <td>The Shawshank Redemption</td>\n",
       "      <td>(1994)</td>\n",
       "      <td>\\nDrama</td>\n",
       "      <td>142 min</td>\n",
       "      <td>9.3</td>\n",
       "      <td>80.0</td>\n",
       "      <td>\\n    Director:\\nFrank Darabont\\n| \\n    Stars...</td>\n",
       "      <td>2,377,480</td>\n",
       "      <td>\\nVotes:\\n2,377,480\\n| Gross:\\n$28.34M\\n</td>\n",
       "      <td>28.34</td>\n",
       "    </tr>\n",
       "    <tr>\n",
       "      <th>1</th>\n",
       "      <td>The Godfather</td>\n",
       "      <td>(1972)</td>\n",
       "      <td>\\nCrime, Drama</td>\n",
       "      <td>175 min</td>\n",
       "      <td>9.2</td>\n",
       "      <td>100.0</td>\n",
       "      <td>\\n    Director:\\nFrancis Ford Coppola\\n| \\n   ...</td>\n",
       "      <td>1,646,818</td>\n",
       "      <td>\\nVotes:\\n1,646,818\\n| Gross:\\n$134.97M\\n</td>\n",
       "      <td>134.97</td>\n",
       "    </tr>\n",
       "  </tbody>\n",
       "</table>\n",
       "</div>"
      ],
      "text/plain": [
       "                       Name    Year                       Genre Run_time  \\\n",
       "0  The Shawshank Redemption  (1994)         \\nDrama              142 min   \n",
       "1             The Godfather  (1972)  \\nCrime, Drama              175 min   \n",
       "\n",
       "   Rating  Meta_score                                      Director_cast  \\\n",
       "0     9.3        80.0  \\n    Director:\\nFrank Darabont\\n| \\n    Stars...   \n",
       "1     9.2       100.0  \\n    Director:\\nFrancis Ford Coppola\\n| \\n   ...   \n",
       "\n",
       "       Votes                                 Vote_gross   Gross  \n",
       "0  2,377,480   \\nVotes:\\n2,377,480\\n| Gross:\\n$28.34M\\n   28.34  \n",
       "1  1,646,818  \\nVotes:\\n1,646,818\\n| Gross:\\n$134.97M\\n  134.97  "
      ]
     },
     "execution_count": 13,
     "metadata": {},
     "output_type": "execute_result"
    }
   ],
   "source": [
    "df.head(2)"
   ]
  },
  {
   "cell_type": "markdown",
   "id": "oriental-xerox",
   "metadata": {},
   "source": [
    "#### save our regex of imdb data set csv file"
   ]
  },
  {
   "cell_type": "code",
   "execution_count": 99,
   "id": "empirical-falls",
   "metadata": {},
   "outputs": [],
   "source": [
    "df.to_csv(\"C:\\\\Users\\\\m\\\\Desktop\\\\project\\\\regex_imdb.csv\",index=False)"
   ]
  },
  {
   "cell_type": "code",
   "execution_count": 100,
   "id": "guided-adobe",
   "metadata": {},
   "outputs": [
    {
     "data": {
      "text/html": [
       "<div>\n",
       "<style scoped>\n",
       "    .dataframe tbody tr th:only-of-type {\n",
       "        vertical-align: middle;\n",
       "    }\n",
       "\n",
       "    .dataframe tbody tr th {\n",
       "        vertical-align: top;\n",
       "    }\n",
       "\n",
       "    .dataframe thead th {\n",
       "        text-align: right;\n",
       "    }\n",
       "</style>\n",
       "<table border=\"1\" class=\"dataframe\">\n",
       "  <thead>\n",
       "    <tr style=\"text-align: right;\">\n",
       "      <th></th>\n",
       "      <th>Name</th>\n",
       "      <th>Year</th>\n",
       "      <th>Genre</th>\n",
       "      <th>Run_time</th>\n",
       "      <th>Rating</th>\n",
       "      <th>Meta_score</th>\n",
       "      <th>Votes</th>\n",
       "      <th>Director</th>\n",
       "      <th>cast</th>\n",
       "      <th>Gross</th>\n",
       "    </tr>\n",
       "  </thead>\n",
       "  <tbody>\n",
       "    <tr>\n",
       "      <th>0</th>\n",
       "      <td>The Shawshank Redemption</td>\n",
       "      <td>1994</td>\n",
       "      <td>Drama</td>\n",
       "      <td>142</td>\n",
       "      <td>9.3</td>\n",
       "      <td>80.0</td>\n",
       "      <td>2377480</td>\n",
       "      <td>Frank Darabont</td>\n",
       "      <td>Tim Robbins, Morgan Freeman, Bob Gunton, Willi...</td>\n",
       "      <td>28.34</td>\n",
       "    </tr>\n",
       "    <tr>\n",
       "      <th>1</th>\n",
       "      <td>The Godfather</td>\n",
       "      <td>1972</td>\n",
       "      <td>Crime, Drama</td>\n",
       "      <td>175</td>\n",
       "      <td>9.2</td>\n",
       "      <td>100.0</td>\n",
       "      <td>1646818</td>\n",
       "      <td>Francis Ford Coppola</td>\n",
       "      <td>Marlon Brando, Al Pacino, James Caan, Diane Ke...</td>\n",
       "      <td>134.97</td>\n",
       "    </tr>\n",
       "    <tr>\n",
       "      <th>2</th>\n",
       "      <td>The Dark Knight</td>\n",
       "      <td>2008</td>\n",
       "      <td>Action, Crime, Drama</td>\n",
       "      <td>152</td>\n",
       "      <td>9.0</td>\n",
       "      <td>84.0</td>\n",
       "      <td>2341261</td>\n",
       "      <td>Christopher Nolan</td>\n",
       "      <td>Christian Bale, Heath Ledger, Aaron Eckhart, M...</td>\n",
       "      <td>534.86</td>\n",
       "    </tr>\n",
       "    <tr>\n",
       "      <th>3</th>\n",
       "      <td>The Godfather: Part II</td>\n",
       "      <td>1974</td>\n",
       "      <td>Crime, Drama</td>\n",
       "      <td>202</td>\n",
       "      <td>9.0</td>\n",
       "      <td>90.0</td>\n",
       "      <td>1146666</td>\n",
       "      <td>Francis Ford Coppola</td>\n",
       "      <td>Al Pacino, Robert De Niro, Robert Duvall, Dian...</td>\n",
       "      <td>57.30</td>\n",
       "    </tr>\n",
       "    <tr>\n",
       "      <th>4</th>\n",
       "      <td>12 Angry Men</td>\n",
       "      <td>1957</td>\n",
       "      <td>Crime, Drama</td>\n",
       "      <td>96</td>\n",
       "      <td>9.0</td>\n",
       "      <td>96.0</td>\n",
       "      <td>701882</td>\n",
       "      <td>Sidney Lumet</td>\n",
       "      <td>Henry Fonda, Lee J. Cobb, Martin Balsam, John ...</td>\n",
       "      <td>4.36</td>\n",
       "    </tr>\n",
       "    <tr>\n",
       "      <th>...</th>\n",
       "      <td>...</td>\n",
       "      <td>...</td>\n",
       "      <td>...</td>\n",
       "      <td>...</td>\n",
       "      <td>...</td>\n",
       "      <td>...</td>\n",
       "      <td>...</td>\n",
       "      <td>...</td>\n",
       "      <td>...</td>\n",
       "      <td>...</td>\n",
       "    </tr>\n",
       "    <tr>\n",
       "      <th>995</th>\n",
       "      <td>Breakfast at Tiffany's</td>\n",
       "      <td>1961</td>\n",
       "      <td>Comedy, Drama, Romance</td>\n",
       "      <td>115</td>\n",
       "      <td>7.6</td>\n",
       "      <td>76.0</td>\n",
       "      <td>168713</td>\n",
       "      <td>Blake Edwards</td>\n",
       "      <td>Audrey Hepburn, George Peppard, Patricia Neal,...</td>\n",
       "      <td></td>\n",
       "    </tr>\n",
       "    <tr>\n",
       "      <th>996</th>\n",
       "      <td>Giant</td>\n",
       "      <td>1956</td>\n",
       "      <td>Drama, Western</td>\n",
       "      <td>201</td>\n",
       "      <td>7.6</td>\n",
       "      <td>84.0</td>\n",
       "      <td>34594</td>\n",
       "      <td>George Stevens</td>\n",
       "      <td>Elizabeth Taylor, Rock Hudson, James Dean, Car...</td>\n",
       "      <td></td>\n",
       "    </tr>\n",
       "    <tr>\n",
       "      <th>997</th>\n",
       "      <td>From Here to Eternity</td>\n",
       "      <td>1953</td>\n",
       "      <td>Drama, Romance, War</td>\n",
       "      <td>118</td>\n",
       "      <td>7.6</td>\n",
       "      <td>85.0</td>\n",
       "      <td>43868</td>\n",
       "      <td>Fred Zinnemann</td>\n",
       "      <td>Burt Lancaster, Montgomery Clift, Deborah Kerr...</td>\n",
       "      <td>30.50</td>\n",
       "    </tr>\n",
       "    <tr>\n",
       "      <th>998</th>\n",
       "      <td>Lifeboat</td>\n",
       "      <td>1944</td>\n",
       "      <td>Drama, War</td>\n",
       "      <td>97</td>\n",
       "      <td>7.6</td>\n",
       "      <td>78.0</td>\n",
       "      <td>26791</td>\n",
       "      <td>Alfred Hitchcock</td>\n",
       "      <td>Tallulah Bankhead, John Hodiak, Walter Slezak,...</td>\n",
       "      <td></td>\n",
       "    </tr>\n",
       "    <tr>\n",
       "      <th>999</th>\n",
       "      <td>The 39 Steps</td>\n",
       "      <td>1935</td>\n",
       "      <td>Crime, Mystery, Thriller</td>\n",
       "      <td>86</td>\n",
       "      <td>7.6</td>\n",
       "      <td>93.0</td>\n",
       "      <td>52688</td>\n",
       "      <td>Alfred Hitchcock</td>\n",
       "      <td>Robert Donat, Madeleine Carroll, Lucie Mannhei...</td>\n",
       "      <td></td>\n",
       "    </tr>\n",
       "  </tbody>\n",
       "</table>\n",
       "<p>1000 rows × 10 columns</p>\n",
       "</div>"
      ],
      "text/plain": [
       "                         Name  Year                                 Genre  \\\n",
       "0    The Shawshank Redemption  1994                     Drama               \n",
       "1               The Godfather  1972              Crime, Drama               \n",
       "2             The Dark Knight  2008      Action, Crime, Drama               \n",
       "3      The Godfather: Part II  1974              Crime, Drama               \n",
       "4                12 Angry Men  1957              Crime, Drama               \n",
       "..                        ...   ...                                   ...   \n",
       "995    Breakfast at Tiffany's  1961    Comedy, Drama, Romance               \n",
       "996                     Giant  1956            Drama, Western               \n",
       "997     From Here to Eternity  1953       Drama, Romance, War               \n",
       "998                  Lifeboat  1944                Drama, War               \n",
       "999              The 39 Steps  1935  Crime, Mystery, Thriller               \n",
       "\n",
       "    Run_time  Rating  Meta_score    Votes              Director  \\\n",
       "0       142      9.3        80.0  2377480        Frank Darabont   \n",
       "1       175      9.2       100.0  1646818  Francis Ford Coppola   \n",
       "2       152      9.0        84.0  2341261     Christopher Nolan   \n",
       "3       202      9.0        90.0  1146666  Francis Ford Coppola   \n",
       "4        96      9.0        96.0   701882          Sidney Lumet   \n",
       "..       ...     ...         ...      ...                   ...   \n",
       "995     115      7.6        76.0   168713         Blake Edwards   \n",
       "996     201      7.6        84.0    34594        George Stevens   \n",
       "997     118      7.6        85.0    43868        Fred Zinnemann   \n",
       "998      97      7.6        78.0    26791      Alfred Hitchcock   \n",
       "999      86      7.6        93.0    52688      Alfred Hitchcock   \n",
       "\n",
       "                                                  cast   Gross  \n",
       "0    Tim Robbins, Morgan Freeman, Bob Gunton, Willi...   28.34  \n",
       "1    Marlon Brando, Al Pacino, James Caan, Diane Ke...  134.97  \n",
       "2    Christian Bale, Heath Ledger, Aaron Eckhart, M...  534.86  \n",
       "3    Al Pacino, Robert De Niro, Robert Duvall, Dian...   57.30  \n",
       "4    Henry Fonda, Lee J. Cobb, Martin Balsam, John ...    4.36  \n",
       "..                                                 ...     ...  \n",
       "995  Audrey Hepburn, George Peppard, Patricia Neal,...          \n",
       "996  Elizabeth Taylor, Rock Hudson, James Dean, Car...          \n",
       "997  Burt Lancaster, Montgomery Clift, Deborah Kerr...   30.50  \n",
       "998  Tallulah Bankhead, John Hodiak, Walter Slezak,...          \n",
       "999  Robert Donat, Madeleine Carroll, Lucie Mannhei...          \n",
       "\n",
       "[1000 rows x 10 columns]"
      ]
     },
     "execution_count": 100,
     "metadata": {},
     "output_type": "execute_result"
    }
   ],
   "source": [
    "df"
   ]
  },
  {
   "cell_type": "code",
   "execution_count": null,
   "id": "premier-testament",
   "metadata": {},
   "outputs": [],
   "source": []
  }
 ],
 "metadata": {
  "kernelspec": {
   "display_name": "Python 3",
   "language": "python",
   "name": "python3"
  },
  "language_info": {
   "codemirror_mode": {
    "name": "ipython",
    "version": 3
   },
   "file_extension": ".py",
   "mimetype": "text/x-python",
   "name": "python",
   "nbconvert_exporter": "python",
   "pygments_lexer": "ipython3",
   "version": "3.8.5"
  }
 },
 "nbformat": 4,
 "nbformat_minor": 5
}
