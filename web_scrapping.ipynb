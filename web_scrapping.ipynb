{
 "cells": [
  {
   "cell_type": "markdown",
   "id": "cleared-strain",
   "metadata": {},
   "source": [
    "## import Libraries"
   ]
  },
  {
   "cell_type": "code",
   "execution_count": 3,
   "id": "dutch-commerce",
   "metadata": {},
   "outputs": [],
   "source": [
    "import pandas as pd\n",
    "import requests\n",
    "from bs4 import BeautifulSoup\n",
    "import time\n",
    "import re\n",
    "from IPython.core.interactiveshell import InteractiveShell\n",
    "InteractiveShell.ast_node_interactivity = 'all'\n"
   ]
  },
  {
   "cell_type": "code",
   "execution_count": null,
   "id": "political-november",
   "metadata": {},
   "outputs": [],
   "source": [
    "url=\"https://www.imdb.com/search/title/?count=100&groups=top_1000&sort=user_rating\""
   ]
  },
  {
   "cell_type": "code",
   "execution_count": null,
   "id": "public-twenty",
   "metadata": {},
   "outputs": [],
   "source": [
    "r=requests.get(url)"
   ]
  },
  {
   "cell_type": "code",
   "execution_count": null,
   "id": "wrong-temperature",
   "metadata": {},
   "outputs": [],
   "source": [
    "r.status_code"
   ]
  },
  {
   "cell_type": "code",
   "execution_count": null,
   "id": "copyrighted-divorce",
   "metadata": {},
   "outputs": [],
   "source": [
    "r.content"
   ]
  },
  {
   "cell_type": "code",
   "execution_count": null,
   "id": "nasty-brazilian",
   "metadata": {},
   "outputs": [],
   "source": [
    "soup=BeautifulSoup(r.content)"
   ]
  },
  {
   "cell_type": "code",
   "execution_count": null,
   "id": "assigned-behavior",
   "metadata": {},
   "outputs": [],
   "source": [
    "soup"
   ]
  },
  {
   "cell_type": "markdown",
   "id": "demographic-flesh",
   "metadata": {},
   "source": [
    "## MOVIES NAME"
   ]
  },
  {
   "cell_type": "code",
   "execution_count": null,
   "id": "polish-pocket",
   "metadata": {},
   "outputs": [],
   "source": [
    "title=soup.find_all(\"h3\",attrs={\"class\":\"lister-item-header\"})"
   ]
  },
  {
   "cell_type": "code",
   "execution_count": null,
   "id": "intelligent-printer",
   "metadata": {},
   "outputs": [],
   "source": [
    "title"
   ]
  },
  {
   "cell_type": "code",
   "execution_count": null,
   "id": "revolutionary-advertising",
   "metadata": {},
   "outputs": [],
   "source": [
    "name=title[0].find(\"a\").text"
   ]
  },
  {
   "cell_type": "code",
   "execution_count": null,
   "id": "simple-titanium",
   "metadata": {},
   "outputs": [],
   "source": [
    "name"
   ]
  },
  {
   "cell_type": "code",
   "execution_count": null,
   "id": "healthy-intervention",
   "metadata": {},
   "outputs": [],
   "source": [
    "movie_name=[x.find(\"a\").text for x in title]"
   ]
  },
  {
   "cell_type": "code",
   "execution_count": null,
   "id": "black-israeli",
   "metadata": {},
   "outputs": [],
   "source": [
    "len(movie_name)"
   ]
  },
  {
   "cell_type": "code",
   "execution_count": null,
   "id": "verified-allergy",
   "metadata": {},
   "outputs": [],
   "source": [
    "movie_name"
   ]
  },
  {
   "cell_type": "markdown",
   "id": "filled-edition",
   "metadata": {},
   "source": [
    "## RELEASE YEAR"
   ]
  },
  {
   "cell_type": "code",
   "execution_count": null,
   "id": "forbidden-lemon",
   "metadata": {
    "scrolled": true
   },
   "outputs": [],
   "source": [
    "title"
   ]
  },
  {
   "cell_type": "code",
   "execution_count": null,
   "id": "young-fence",
   "metadata": {},
   "outputs": [],
   "source": [
    "title[0].find(\"span\",attrs={\"class\":\"lister-item-year text-muted unbold\"}).text"
   ]
  },
  {
   "cell_type": "code",
   "execution_count": null,
   "id": "provincial-samba",
   "metadata": {},
   "outputs": [],
   "source": [
    "year=title[0].find(\"span\",attrs={\"class\":\"lister-item-year text-muted unbold\"}).text"
   ]
  },
  {
   "cell_type": "code",
   "execution_count": null,
   "id": "subsequent-bolivia",
   "metadata": {},
   "outputs": [],
   "source": [
    "year"
   ]
  },
  {
   "cell_type": "code",
   "execution_count": null,
   "id": "opened-rotation",
   "metadata": {},
   "outputs": [],
   "source": [
    "release_year=[x.find(\"span\",attrs={\"class\":\"lister-item-year text-muted unbold\"}).text for x in title]"
   ]
  },
  {
   "cell_type": "code",
   "execution_count": null,
   "id": "corporate-bearing",
   "metadata": {},
   "outputs": [],
   "source": [
    "release_year"
   ]
  },
  {
   "cell_type": "markdown",
   "id": "occupied-cornell",
   "metadata": {},
   "source": [
    "## OVERALL VOTES AND GROSS"
   ]
  },
  {
   "cell_type": "code",
   "execution_count": null,
   "id": "productive-proposition",
   "metadata": {},
   "outputs": [],
   "source": [
    "overall=soup.find_all(\"p\",attrs={\"class\":\"sort-num_votes-visible\"})"
   ]
  },
  {
   "cell_type": "code",
   "execution_count": null,
   "id": "exterior-restaurant",
   "metadata": {},
   "outputs": [],
   "source": [
    "overall[0].text"
   ]
  },
  {
   "cell_type": "code",
   "execution_count": null,
   "id": "stopped-folks",
   "metadata": {},
   "outputs": [],
   "source": [
    "overall[0].find_all(\"span\",attrs={\"class\":\"text-muted\"})[0].text"
   ]
  },
  {
   "cell_type": "code",
   "execution_count": null,
   "id": "coral-joint",
   "metadata": {},
   "outputs": [],
   "source": [
    "gross_votes=[x.text for x in overall]"
   ]
  },
  {
   "cell_type": "code",
   "execution_count": null,
   "id": "technological-chance",
   "metadata": {},
   "outputs": [],
   "source": [
    "overall_gross_votes=[]\n",
    "for x in range(len(gross_votes)):\n",
    "    overall_gross_votes.append(gross_votes[x])"
   ]
  },
  {
   "cell_type": "code",
   "execution_count": null,
   "id": "daily-wrapping",
   "metadata": {},
   "outputs": [],
   "source": [
    "overall_gross_votes"
   ]
  },
  {
   "cell_type": "markdown",
   "id": "infrared-alexandria",
   "metadata": {},
   "source": [
    "## VOTES"
   ]
  },
  {
   "cell_type": "code",
   "execution_count": null,
   "id": "following-selling",
   "metadata": {},
   "outputs": [],
   "source": [
    "overall_votes=[x.find(\"span\",attrs={\"name\":\"nv\"}).text for x in overall]"
   ]
  },
  {
   "cell_type": "code",
   "execution_count": null,
   "id": "blind-chassis",
   "metadata": {},
   "outputs": [],
   "source": [
    "overall_votes"
   ]
  },
  {
   "cell_type": "markdown",
   "id": "universal-minimum",
   "metadata": {},
   "source": [
    "## META SCORE"
   ]
  },
  {
   "cell_type": "code",
   "execution_count": null,
   "id": "magnetic-cheese",
   "metadata": {},
   "outputs": [],
   "source": [
    "score=soup.find_all(\"span\",attrs={\"class\":\"metascore\"})"
   ]
  },
  {
   "cell_type": "code",
   "execution_count": null,
   "id": "portuguese-gateway",
   "metadata": {
    "scrolled": true
   },
   "outputs": [],
   "source": [
    "score"
   ]
  },
  {
   "cell_type": "code",
   "execution_count": null,
   "id": "assured-sewing",
   "metadata": {},
   "outputs": [],
   "source": [
    "score[0].text"
   ]
  },
  {
   "cell_type": "code",
   "execution_count": null,
   "id": "superior-illinois",
   "metadata": {},
   "outputs": [],
   "source": [
    "len(score)"
   ]
  },
  {
   "cell_type": "code",
   "execution_count": null,
   "id": "adjustable-pittsburgh",
   "metadata": {},
   "outputs": [],
   "source": [
    "a=len(score)\n",
    "meta_score=[]\n",
    "for x in range(a):\n",
    "    meta_score.append(((score[x]).text).strip())"
   ]
  },
  {
   "cell_type": "code",
   "execution_count": null,
   "id": "bigger-vehicle",
   "metadata": {
    "scrolled": true
   },
   "outputs": [],
   "source": [
    "\n",
    "meta_score"
   ]
  },
  {
   "cell_type": "code",
   "execution_count": null,
   "id": "least-consistency",
   "metadata": {},
   "outputs": [],
   "source": [
    "len(meta_score)"
   ]
  },
  {
   "cell_type": "markdown",
   "id": "black-clearing",
   "metadata": {},
   "source": [
    "## RATING"
   ]
  },
  {
   "cell_type": "code",
   "execution_count": null,
   "id": "swiss-garbage",
   "metadata": {},
   "outputs": [],
   "source": [
    "rate=soup.find_all(\"div\",attrs={\"class\":\"inline-block ratings-imdb-rating\"})"
   ]
  },
  {
   "cell_type": "code",
   "execution_count": null,
   "id": "documentary-mileage",
   "metadata": {},
   "outputs": [],
   "source": [
    "rate"
   ]
  },
  {
   "cell_type": "code",
   "execution_count": null,
   "id": "loaded-edinburgh",
   "metadata": {},
   "outputs": [],
   "source": [
    "rate[0]"
   ]
  },
  {
   "cell_type": "code",
   "execution_count": null,
   "id": "matched-vampire",
   "metadata": {},
   "outputs": [],
   "source": [
    "rate[0].find(\"strong\").text"
   ]
  },
  {
   "cell_type": "code",
   "execution_count": null,
   "id": "coated-compromise",
   "metadata": {},
   "outputs": [],
   "source": [
    "ratings=[x.find(\"strong\").text for x in rate]"
   ]
  },
  {
   "cell_type": "code",
   "execution_count": null,
   "id": "graduate-plasma",
   "metadata": {},
   "outputs": [],
   "source": [
    "len(ratings)"
   ]
  },
  {
   "cell_type": "code",
   "execution_count": null,
   "id": "norman-salem",
   "metadata": {},
   "outputs": [],
   "source": [
    "ratings"
   ]
  },
  {
   "cell_type": "markdown",
   "id": "moving-playback",
   "metadata": {},
   "source": [
    "## DIRECTOR AND CAST"
   ]
  },
  {
   "cell_type": "code",
   "execution_count": null,
   "id": "nervous-recovery",
   "metadata": {},
   "outputs": [],
   "source": [
    "overall=soup.find_all(\"p\",attrs={\"class\":\"\"})"
   ]
  },
  {
   "cell_type": "code",
   "execution_count": null,
   "id": "pleased-enclosure",
   "metadata": {
    "scrolled": true
   },
   "outputs": [],
   "source": [
    "overall[0]"
   ]
  },
  {
   "cell_type": "code",
   "execution_count": null,
   "id": "addressed-possible",
   "metadata": {
    "scrolled": true
   },
   "outputs": [],
   "source": [
    "overall[0].find_all(\"a\")"
   ]
  },
  {
   "cell_type": "code",
   "execution_count": null,
   "id": "southern-radiation",
   "metadata": {},
   "outputs": [],
   "source": [
    "bbc=[x.find_all(\"a\") for x in overall]"
   ]
  },
  {
   "cell_type": "code",
   "execution_count": null,
   "id": "cordless-glenn",
   "metadata": {},
   "outputs": [],
   "source": [
    "bbc[0]"
   ]
  },
  {
   "cell_type": "code",
   "execution_count": null,
   "id": "cultural-investigation",
   "metadata": {},
   "outputs": [],
   "source": [
    "overall_dir=[]\n",
    "for x in range(len(bbc)):\n",
    "    overall_dir.append(bbc[x])"
   ]
  },
  {
   "cell_type": "code",
   "execution_count": null,
   "id": "assured-danish",
   "metadata": {},
   "outputs": [],
   "source": [
    "overall_dir[0]"
   ]
  },
  {
   "cell_type": "code",
   "execution_count": null,
   "id": "traditional-occasions",
   "metadata": {},
   "outputs": [],
   "source": [
    "overall_dirc_cast[0]"
   ]
  },
  {
   "cell_type": "code",
   "execution_count": null,
   "id": "ceramic-reference",
   "metadata": {},
   "outputs": [],
   "source": [
    "len(overall_dir)"
   ]
  },
  {
   "cell_type": "code",
   "execution_count": null,
   "id": "entertaining-portal",
   "metadata": {},
   "outputs": [],
   "source": [
    "overall_dir_cast=[]\n",
    "for x in range(len(bb)):\n",
    "    overall_dir_cast.append(bb[x].text)"
   ]
  },
  {
   "cell_type": "code",
   "execution_count": null,
   "id": "perfect-bernard",
   "metadata": {},
   "outputs": [],
   "source": [
    "overall_dir_cast"
   ]
  },
  {
   "cell_type": "code",
   "execution_count": null,
   "id": "integrated-johns",
   "metadata": {},
   "outputs": [],
   "source": [
    "len(overall_dir_cast)"
   ]
  },
  {
   "cell_type": "markdown",
   "id": "precious-communication",
   "metadata": {},
   "source": [
    "## DIRECTORS"
   ]
  },
  {
   "cell_type": "code",
   "execution_count": null,
   "id": "planned-plaza",
   "metadata": {},
   "outputs": [],
   "source": [
    "directors=[x.find(\"a\").text for x in overall]"
   ]
  },
  {
   "cell_type": "code",
   "execution_count": null,
   "id": "electoral-fusion",
   "metadata": {},
   "outputs": [],
   "source": [
    "len(directors)"
   ]
  },
  {
   "cell_type": "code",
   "execution_count": null,
   "id": "least-orlando",
   "metadata": {
    "scrolled": true
   },
   "outputs": [],
   "source": [
    "directors"
   ]
  },
  {
   "cell_type": "markdown",
   "id": "portable-malaysia",
   "metadata": {},
   "source": [
    "## Run time"
   ]
  },
  {
   "cell_type": "code",
   "execution_count": null,
   "id": "proud-cliff",
   "metadata": {},
   "outputs": [],
   "source": [
    "run_times=soup.find_all(\"span\",attrs={\"class\":\"runtime\"})"
   ]
  },
  {
   "cell_type": "code",
   "execution_count": null,
   "id": "psychological-harbor",
   "metadata": {},
   "outputs": [],
   "source": [
    "run_times[0].text"
   ]
  },
  {
   "cell_type": "code",
   "execution_count": null,
   "id": "legislative-missile",
   "metadata": {},
   "outputs": [],
   "source": [
    "run_time=[x.text for x in run_times]"
   ]
  },
  {
   "cell_type": "code",
   "execution_count": null,
   "id": "found-archive",
   "metadata": {},
   "outputs": [],
   "source": [
    "len(run_time)"
   ]
  },
  {
   "cell_type": "markdown",
   "id": "solid-experiment",
   "metadata": {},
   "source": [
    "## LOOP FOR N NUMBER OF PAGES"
   ]
  },
  {
   "cell_type": "code",
   "execution_count": 4,
   "id": "proper-philippines",
   "metadata": {},
   "outputs": [],
   "source": [
    "import numpy as np"
   ]
  },
  {
   "cell_type": "code",
   "execution_count": null,
   "id": "marked-intro",
   "metadata": {},
   "outputs": [],
   "source": [
    "headers = {'Accept-Language': 'en-US, en;q=0.5'}"
   ]
  },
  {
   "cell_type": "code",
   "execution_count": null,
   "id": "bored-athletics",
   "metadata": {},
   "outputs": [],
   "source": [
    "range(2,40)"
   ]
  },
  {
   "cell_type": "code",
   "execution_count": null,
   "id": "fewer-victoria",
   "metadata": {},
   "outputs": [],
   "source": [
    "np.arange(1,200,20)"
   ]
  },
  {
   "cell_type": "code",
   "execution_count": 7,
   "id": "sixth-limitation",
   "metadata": {
    "scrolled": true
   },
   "outputs": [
    {
     "name": "stdout",
     "output_type": "stream",
     "text": [
      "Page 1 completed in 2.8508431911468506 seconds\n",
      "Page 101 completed in 2.7401251792907715 seconds\n",
      "Page 201 completed in 4.988349676132202 seconds\n",
      "Page 301 completed in 7.594130039215088 seconds\n",
      "Page 401 completed in 3.1582984924316406 seconds\n",
      "Page 501 completed in 2.884718894958496 seconds\n",
      "Page 601 completed in 2.8982081413269043 seconds\n",
      "Page 701 completed in 3.005009889602661 seconds\n",
      "Page 801 completed in 2.964803457260132 seconds\n",
      "Page 901 completed in 3.185128688812256 seconds\n"
     ]
    }
   ],
   "source": [
    "\n",
    "name=[]\n",
    "year=[]\n",
    "genre=[]\n",
    "run_time=[]\n",
    "rating=[]\n",
    "meta_score=[]\n",
    "director_cast=[]\n",
    "vote=[]\n",
    "vote_gross=[]\n",
    "pagenum=[]\n",
    "#pages = np.arange(1, 1001, 50)\n",
    "for i in np.arange(1, 1001, 100): \n",
    "    start_time = time.time()\n",
    "    URL = 'https://www.imdb.com/search/title/?groups=top_1000&sort=user_rating,desc&count=100&start={}&ref_=adv_nxt'.format(i)\n",
    "    page = requests.get(URL)\n",
    "    pagecontent = page.text\n",
    "    soup = BeautifulSoup(pagecontent)\n",
    "    main_tag=soup.find_all(\"div\",attrs={\"class\":\"lister-item-content\"})\n",
    "    \n",
    "    for x in main_tag:\n",
    "        names=x.find(\"a\")\n",
    "        years=x.find(\"span\",attrs={\"class\":\"lister-item-year text-muted unbold\"})\n",
    "        genres=x.find(\"span\",attrs={\"class\":\"genre\"})\n",
    "        runtimes=x.find(\"span\",attrs={\"class\":\"runtime\"})\n",
    "        ratings=x.find(\"div\",attrs={\"class\":\"inline-block ratings-imdb-rating\"})\n",
    "        meta_scores=x.find(\"span\",attrs={\"class\":\"metascore favorable\"})\n",
    "        directors_casts=x.find(\"p\",attrs={\"class\":\"\"})\n",
    "        votess=x.find(\"span\",attrs={\"name\":\"nv\"})\n",
    "        votes_gross=x.find(\"p\",attrs={\"class\":\"sort-num_votes-visible\"})\n",
    "        \n",
    "    \n",
    "        if names is None:\n",
    "            name.append(np.NaN)\n",
    "        else:\n",
    "            name.append(names.text)\n",
    "     \n",
    "        if years is None:\n",
    "            year.append(np.NaN)\n",
    "        else:\n",
    "            year.append(years.text)\n",
    "            \n",
    "        if genres is None:\n",
    "            genre.append(np.NaN)\n",
    "        else:\n",
    "            genre.append(genres.text)\n",
    "            \n",
    "        if runtimes is None:\n",
    "            run_time.append(np.NaN)\n",
    "        else:\n",
    "            run_time.append(runtimes.text)\n",
    "            \n",
    "        if ratings is None:\n",
    "            rating.append(np.NaN)\n",
    "        else:\n",
    "            rating.append(ratings.text)\n",
    "            \n",
    "        if meta_scores is None:\n",
    "            meta_score.append(np.NaN)\n",
    "        else:\n",
    "            meta_score.append(meta_scores.text)\n",
    "        \n",
    "        if directors_casts is None:\n",
    "            director_cast.append(np.NaN)\n",
    "        else:\n",
    "            director_cast.append(directors_casts.text)\n",
    "        \n",
    "        if votess is None:\n",
    "            vote.append(np.NaN)\n",
    "        else:\n",
    "            vote.append(votess.text)\n",
    "        \n",
    "        if votes_gross is None:\n",
    "            vote_gross.append(np.NaN)\n",
    "        else:\n",
    "            vote_gross.append(votes_gross.text)\n",
    "        \n",
    "        pagenum.append(i)\n",
    "    print('Page {} completed in {} seconds'.format(i, time.time()-start_time))   \n",
    "    "
   ]
  },
  {
   "cell_type": "code",
   "execution_count": null,
   "id": "simple-remains",
   "metadata": {},
   "outputs": [],
   "source": []
  },
  {
   "cell_type": "code",
   "execution_count": 8,
   "id": "forty-basketball",
   "metadata": {
    "scrolled": true
   },
   "outputs": [
    {
     "data": {
      "text/plain": [
       "1000"
      ]
     },
     "execution_count": 8,
     "metadata": {},
     "output_type": "execute_result"
    },
    {
     "data": {
      "text/plain": [
       "1000"
      ]
     },
     "execution_count": 8,
     "metadata": {},
     "output_type": "execute_result"
    },
    {
     "data": {
      "text/plain": [
       "1000"
      ]
     },
     "execution_count": 8,
     "metadata": {},
     "output_type": "execute_result"
    },
    {
     "data": {
      "text/plain": [
       "1000"
      ]
     },
     "execution_count": 8,
     "metadata": {},
     "output_type": "execute_result"
    },
    {
     "data": {
      "text/plain": [
       "1000"
      ]
     },
     "execution_count": 8,
     "metadata": {},
     "output_type": "execute_result"
    },
    {
     "data": {
      "text/plain": [
       "1000"
      ]
     },
     "execution_count": 8,
     "metadata": {},
     "output_type": "execute_result"
    },
    {
     "data": {
      "text/plain": [
       "1000"
      ]
     },
     "execution_count": 8,
     "metadata": {},
     "output_type": "execute_result"
    },
    {
     "data": {
      "text/plain": [
       "1000"
      ]
     },
     "execution_count": 8,
     "metadata": {},
     "output_type": "execute_result"
    },
    {
     "data": {
      "text/plain": [
       "1000"
      ]
     },
     "execution_count": 8,
     "metadata": {},
     "output_type": "execute_result"
    }
   ],
   "source": [
    "len(name)\n",
    "len(year)\n",
    "len(genre)\n",
    "len(run_time)\n",
    "len(rating)\n",
    "len(meta_score)\n",
    "len(director_cast)\n",
    "len(vote)\n",
    "len(vote_gross)"
   ]
  },
  {
   "cell_type": "markdown",
   "id": "residential-thinking",
   "metadata": {},
   "source": [
    "### cross check"
   ]
  },
  {
   "cell_type": "code",
   "execution_count": null,
   "id": "disturbed-window",
   "metadata": {},
   "outputs": [],
   "source": [
    "main_tag=soup.find_all(\"div\",attrs={\"class\":\"lister-item-content\"})"
   ]
  },
  {
   "cell_type": "code",
   "execution_count": null,
   "id": "municipal-november",
   "metadata": {},
   "outputs": [],
   "source": [
    "main_tag[0].find(\"a\").text"
   ]
  },
  {
   "cell_type": "code",
   "execution_count": null,
   "id": "opponent-gregory",
   "metadata": {},
   "outputs": [],
   "source": [
    "main_tag[0].find(\"span\",attrs={\"class\":\"genre\"})"
   ]
  },
  {
   "cell_type": "code",
   "execution_count": null,
   "id": "detected-diameter",
   "metadata": {},
   "outputs": [],
   "source": [
    "main_tag[0].find(\"span\",attrs={\"class\":\"genre\"}).text.strip()"
   ]
  },
  {
   "cell_type": "code",
   "execution_count": null,
   "id": "still-director",
   "metadata": {},
   "outputs": [],
   "source": [
    "main_tag[0].find(\"span\",attrs={\"class\":\"runtime\"}).text"
   ]
  },
  {
   "cell_type": "code",
   "execution_count": null,
   "id": "looking-knight",
   "metadata": {},
   "outputs": [],
   "source": [
    "main_tag[0].find(\"span\",attrs={\"class\":\"runtime\"}).text"
   ]
  },
  {
   "cell_type": "code",
   "execution_count": null,
   "id": "unlike-senegal",
   "metadata": {},
   "outputs": [],
   "source": [
    "main_tag[0].find(\"div\",attrs={\"class\":\"inline-block ratings-imdb-rating\"}).text.replace(\"\\n\",\"\")"
   ]
  },
  {
   "cell_type": "code",
   "execution_count": null,
   "id": "lightweight-lighter",
   "metadata": {},
   "outputs": [],
   "source": [
    "main_tag[0].find(\"span\",attrs={\"class\":\"metascore favorable\"}).text.strip()"
   ]
  },
  {
   "cell_type": "code",
   "execution_count": null,
   "id": "banned-prior",
   "metadata": {},
   "outputs": [],
   "source": [
    "main_tag[0].find(\"p\",attrs={\"class\":\"\"}).text.replace(\"\\n\",\"\").strip()"
   ]
  },
  {
   "cell_type": "code",
   "execution_count": null,
   "id": "cathedral-marine",
   "metadata": {
    "scrolled": true
   },
   "outputs": [],
   "source": [
    "main_tag[0].find(\"p\",attrs={\"class\":\"sort-num_votes-visible\"}).text.replace(\"\\n\",\"\")"
   ]
  },
  {
   "cell_type": "code",
   "execution_count": null,
   "id": "shaped-order",
   "metadata": {
    "scrolled": true
   },
   "outputs": [],
   "source": [
    "main_tag[0].find(\"span\",attrs={\"name\":\"nv\"}).text"
   ]
  },
  {
   "cell_type": "code",
   "execution_count": null,
   "id": "federal-iraqi",
   "metadata": {},
   "outputs": [],
   "source": [
    "main_tag[0].find(\"a\",attrs={\"href\":\"/name/nm0000399/\"}).text\n"
   ]
  },
  {
   "cell_type": "markdown",
   "id": "rubber-treasure",
   "metadata": {},
   "source": [
    "### convert it into dataframe"
   ]
  },
  {
   "cell_type": "code",
   "execution_count": 9,
   "id": "advised-cooper",
   "metadata": {},
   "outputs": [],
   "source": [
    "df=pd.DataFrame({\"Name\":name,\"Year\":year,\"Genre\":genre,\"Run_time\":run_time,\"Rating\":rating,\"Meta_score\":meta_score,\"Director_cast\":director_cast,\"Votes\":vote,\"Vote_gross\":vote_gross})"
   ]
  },
  {
   "cell_type": "code",
   "execution_count": 10,
   "id": "caroline-drain",
   "metadata": {
    "scrolled": false
   },
   "outputs": [
    {
     "data": {
      "text/html": [
       "<div>\n",
       "<style scoped>\n",
       "    .dataframe tbody tr th:only-of-type {\n",
       "        vertical-align: middle;\n",
       "    }\n",
       "\n",
       "    .dataframe tbody tr th {\n",
       "        vertical-align: top;\n",
       "    }\n",
       "\n",
       "    .dataframe thead th {\n",
       "        text-align: right;\n",
       "    }\n",
       "</style>\n",
       "<table border=\"1\" class=\"dataframe\">\n",
       "  <thead>\n",
       "    <tr style=\"text-align: right;\">\n",
       "      <th></th>\n",
       "      <th>Name</th>\n",
       "      <th>Year</th>\n",
       "      <th>Genre</th>\n",
       "      <th>Run_time</th>\n",
       "      <th>Rating</th>\n",
       "      <th>Meta_score</th>\n",
       "      <th>Director_cast</th>\n",
       "      <th>Votes</th>\n",
       "      <th>Vote_gross</th>\n",
       "    </tr>\n",
       "  </thead>\n",
       "  <tbody>\n",
       "    <tr>\n",
       "      <th>0</th>\n",
       "      <td>The Shawshank Redemption</td>\n",
       "      <td>(1994)</td>\n",
       "      <td>\\nDrama</td>\n",
       "      <td>142 min</td>\n",
       "      <td>\\n\\n9.3\\n</td>\n",
       "      <td>80</td>\n",
       "      <td>\\n    Director:\\nFrank Darabont\\n| \\n    Stars...</td>\n",
       "      <td>2,377,480</td>\n",
       "      <td>\\nVotes:\\n2,377,480\\n| Gross:\\n$28.34M\\n</td>\n",
       "    </tr>\n",
       "    <tr>\n",
       "      <th>1</th>\n",
       "      <td>The Godfather</td>\n",
       "      <td>(1972)</td>\n",
       "      <td>\\nCrime, Drama</td>\n",
       "      <td>175 min</td>\n",
       "      <td>\\n\\n9.2\\n</td>\n",
       "      <td>100</td>\n",
       "      <td>\\n    Director:\\nFrancis Ford Coppola\\n| \\n   ...</td>\n",
       "      <td>1,646,818</td>\n",
       "      <td>\\nVotes:\\n1,646,818\\n| Gross:\\n$134.97M\\n</td>\n",
       "    </tr>\n",
       "  </tbody>\n",
       "</table>\n",
       "</div>"
      ],
      "text/plain": [
       "                       Name    Year                       Genre Run_time  \\\n",
       "0  The Shawshank Redemption  (1994)         \\nDrama              142 min   \n",
       "1             The Godfather  (1972)  \\nCrime, Drama              175 min   \n",
       "\n",
       "      Rating   Meta_score                                      Director_cast  \\\n",
       "0  \\n\\n9.3\\n   80          \\n    Director:\\nFrank Darabont\\n| \\n    Stars...   \n",
       "1  \\n\\n9.2\\n  100          \\n    Director:\\nFrancis Ford Coppola\\n| \\n   ...   \n",
       "\n",
       "       Votes                                 Vote_gross  \n",
       "0  2,377,480   \\nVotes:\\n2,377,480\\n| Gross:\\n$28.34M\\n  \n",
       "1  1,646,818  \\nVotes:\\n1,646,818\\n| Gross:\\n$134.97M\\n  "
      ]
     },
     "execution_count": 10,
     "metadata": {},
     "output_type": "execute_result"
    }
   ],
   "source": [
    "df.head(2)"
   ]
  },
  {
   "cell_type": "markdown",
   "id": "secondary-cuisine",
   "metadata": {},
   "source": [
    "### save the csv file"
   ]
  },
  {
   "cell_type": "code",
   "execution_count": 12,
   "id": "healthy-karma",
   "metadata": {},
   "outputs": [],
   "source": [
    "df.to_csv(\"C:\\\\Users\\\\m\\\\Desktop\\\\project\\\\web_scraped_imdb.csv\",index=False)"
   ]
  },
  {
   "cell_type": "code",
   "execution_count": 13,
   "id": "lyric-baghdad",
   "metadata": {},
   "outputs": [
    {
     "data": {
      "text/html": [
       "<div>\n",
       "<style scoped>\n",
       "    .dataframe tbody tr th:only-of-type {\n",
       "        vertical-align: middle;\n",
       "    }\n",
       "\n",
       "    .dataframe tbody tr th {\n",
       "        vertical-align: top;\n",
       "    }\n",
       "\n",
       "    .dataframe thead th {\n",
       "        text-align: right;\n",
       "    }\n",
       "</style>\n",
       "<table border=\"1\" class=\"dataframe\">\n",
       "  <thead>\n",
       "    <tr style=\"text-align: right;\">\n",
       "      <th></th>\n",
       "      <th>Name</th>\n",
       "      <th>Year</th>\n",
       "      <th>Genre</th>\n",
       "      <th>Run_time</th>\n",
       "      <th>Rating</th>\n",
       "      <th>Meta_score</th>\n",
       "      <th>Director_cast</th>\n",
       "      <th>Votes</th>\n",
       "      <th>Vote_gross</th>\n",
       "    </tr>\n",
       "  </thead>\n",
       "  <tbody>\n",
       "    <tr>\n",
       "      <th>0</th>\n",
       "      <td>The Shawshank Redemption</td>\n",
       "      <td>(1994)</td>\n",
       "      <td>\\nDrama</td>\n",
       "      <td>142 min</td>\n",
       "      <td>\\n\\n9.3\\n</td>\n",
       "      <td>80</td>\n",
       "      <td>\\n    Director:\\nFrank Darabont\\n| \\n    Stars...</td>\n",
       "      <td>2,377,480</td>\n",
       "      <td>\\nVotes:\\n2,377,480\\n| Gross:\\n$28.34M\\n</td>\n",
       "    </tr>\n",
       "    <tr>\n",
       "      <th>1</th>\n",
       "      <td>The Godfather</td>\n",
       "      <td>(1972)</td>\n",
       "      <td>\\nCrime, Drama</td>\n",
       "      <td>175 min</td>\n",
       "      <td>\\n\\n9.2\\n</td>\n",
       "      <td>100</td>\n",
       "      <td>\\n    Director:\\nFrancis Ford Coppola\\n| \\n   ...</td>\n",
       "      <td>1,646,818</td>\n",
       "      <td>\\nVotes:\\n1,646,818\\n| Gross:\\n$134.97M\\n</td>\n",
       "    </tr>\n",
       "    <tr>\n",
       "      <th>2</th>\n",
       "      <td>The Dark Knight</td>\n",
       "      <td>(2008)</td>\n",
       "      <td>\\nAction, Crime, Drama</td>\n",
       "      <td>152 min</td>\n",
       "      <td>\\n\\n9.0\\n</td>\n",
       "      <td>84</td>\n",
       "      <td>\\n    Director:\\nChristopher Nolan\\n| \\n    St...</td>\n",
       "      <td>2,341,261</td>\n",
       "      <td>\\nVotes:\\n2,341,261\\n| Gross:\\n$534.86M\\n</td>\n",
       "    </tr>\n",
       "    <tr>\n",
       "      <th>3</th>\n",
       "      <td>The Godfather: Part II</td>\n",
       "      <td>(1974)</td>\n",
       "      <td>\\nCrime, Drama</td>\n",
       "      <td>202 min</td>\n",
       "      <td>\\n\\n9.0\\n</td>\n",
       "      <td>90</td>\n",
       "      <td>\\n    Director:\\nFrancis Ford Coppola\\n| \\n   ...</td>\n",
       "      <td>1,146,666</td>\n",
       "      <td>\\nVotes:\\n1,146,666\\n| Gross:\\n$57.30M\\n</td>\n",
       "    </tr>\n",
       "    <tr>\n",
       "      <th>4</th>\n",
       "      <td>12 Angry Men</td>\n",
       "      <td>(1957)</td>\n",
       "      <td>\\nCrime, Drama</td>\n",
       "      <td>96 min</td>\n",
       "      <td>\\n\\n9.0\\n</td>\n",
       "      <td>96</td>\n",
       "      <td>\\n    Director:\\nSidney Lumet\\n| \\n    Stars:\\...</td>\n",
       "      <td>701,882</td>\n",
       "      <td>\\nVotes:\\n701,882\\n| Gross:\\n$4.36M\\n</td>\n",
       "    </tr>\n",
       "    <tr>\n",
       "      <th>...</th>\n",
       "      <td>...</td>\n",
       "      <td>...</td>\n",
       "      <td>...</td>\n",
       "      <td>...</td>\n",
       "      <td>...</td>\n",
       "      <td>...</td>\n",
       "      <td>...</td>\n",
       "      <td>...</td>\n",
       "      <td>...</td>\n",
       "    </tr>\n",
       "    <tr>\n",
       "      <th>995</th>\n",
       "      <td>Breakfast at Tiffany's</td>\n",
       "      <td>(1961)</td>\n",
       "      <td>\\nComedy, Drama, Romance</td>\n",
       "      <td>115 min</td>\n",
       "      <td>\\n\\n7.6\\n</td>\n",
       "      <td>76</td>\n",
       "      <td>\\n    Director:\\nBlake Edwards\\n| \\n    Stars:...</td>\n",
       "      <td>168,713</td>\n",
       "      <td>\\nVotes:\\n168,713\\n</td>\n",
       "    </tr>\n",
       "    <tr>\n",
       "      <th>996</th>\n",
       "      <td>Giant</td>\n",
       "      <td>(1956)</td>\n",
       "      <td>\\nDrama, Western</td>\n",
       "      <td>201 min</td>\n",
       "      <td>\\n\\n7.6\\n</td>\n",
       "      <td>84</td>\n",
       "      <td>\\n    Director:\\nGeorge Stevens\\n| \\n    Stars...</td>\n",
       "      <td>34,594</td>\n",
       "      <td>\\nVotes:\\n34,594\\n</td>\n",
       "    </tr>\n",
       "    <tr>\n",
       "      <th>997</th>\n",
       "      <td>From Here to Eternity</td>\n",
       "      <td>(1953)</td>\n",
       "      <td>\\nDrama, Romance, War</td>\n",
       "      <td>118 min</td>\n",
       "      <td>\\n\\n7.6\\n</td>\n",
       "      <td>85</td>\n",
       "      <td>\\n    Director:\\nFred Zinnemann\\n| \\n    Stars...</td>\n",
       "      <td>43,868</td>\n",
       "      <td>\\nVotes:\\n43,868\\n| Gross:\\n$30.50M\\n</td>\n",
       "    </tr>\n",
       "    <tr>\n",
       "      <th>998</th>\n",
       "      <td>Lifeboat</td>\n",
       "      <td>(1944)</td>\n",
       "      <td>\\nDrama, War</td>\n",
       "      <td>97 min</td>\n",
       "      <td>\\n\\n7.6\\n</td>\n",
       "      <td>78</td>\n",
       "      <td>\\n    Director:\\nAlfred Hitchcock\\n| \\n    Sta...</td>\n",
       "      <td>26,791</td>\n",
       "      <td>\\nVotes:\\n26,791\\n</td>\n",
       "    </tr>\n",
       "    <tr>\n",
       "      <th>999</th>\n",
       "      <td>The 39 Steps</td>\n",
       "      <td>(1935)</td>\n",
       "      <td>\\nCrime, Mystery, Thriller</td>\n",
       "      <td>86 min</td>\n",
       "      <td>\\n\\n7.6\\n</td>\n",
       "      <td>93</td>\n",
       "      <td>\\n    Director:\\nAlfred Hitchcock\\n| \\n    Sta...</td>\n",
       "      <td>52,688</td>\n",
       "      <td>\\nVotes:\\n52,688\\n</td>\n",
       "    </tr>\n",
       "  </tbody>\n",
       "</table>\n",
       "<p>1000 rows × 9 columns</p>\n",
       "</div>"
      ],
      "text/plain": [
       "                         Name    Year                                   Genre  \\\n",
       "0    The Shawshank Redemption  (1994)                     \\nDrama               \n",
       "1               The Godfather  (1972)              \\nCrime, Drama               \n",
       "2             The Dark Knight  (2008)      \\nAction, Crime, Drama               \n",
       "3      The Godfather: Part II  (1974)              \\nCrime, Drama               \n",
       "4                12 Angry Men  (1957)              \\nCrime, Drama               \n",
       "..                        ...     ...                                     ...   \n",
       "995    Breakfast at Tiffany's  (1961)    \\nComedy, Drama, Romance               \n",
       "996                     Giant  (1956)            \\nDrama, Western               \n",
       "997     From Here to Eternity  (1953)       \\nDrama, Romance, War               \n",
       "998                  Lifeboat  (1944)                \\nDrama, War               \n",
       "999              The 39 Steps  (1935)  \\nCrime, Mystery, Thriller               \n",
       "\n",
       "    Run_time     Rating   Meta_score  \\\n",
       "0    142 min  \\n\\n9.3\\n   80           \n",
       "1    175 min  \\n\\n9.2\\n  100           \n",
       "2    152 min  \\n\\n9.0\\n   84           \n",
       "3    202 min  \\n\\n9.0\\n   90           \n",
       "4     96 min  \\n\\n9.0\\n   96           \n",
       "..       ...        ...          ...   \n",
       "995  115 min  \\n\\n7.6\\n   76           \n",
       "996  201 min  \\n\\n7.6\\n   84           \n",
       "997  118 min  \\n\\n7.6\\n   85           \n",
       "998   97 min  \\n\\n7.6\\n   78           \n",
       "999   86 min  \\n\\n7.6\\n   93           \n",
       "\n",
       "                                         Director_cast      Votes  \\\n",
       "0    \\n    Director:\\nFrank Darabont\\n| \\n    Stars...  2,377,480   \n",
       "1    \\n    Director:\\nFrancis Ford Coppola\\n| \\n   ...  1,646,818   \n",
       "2    \\n    Director:\\nChristopher Nolan\\n| \\n    St...  2,341,261   \n",
       "3    \\n    Director:\\nFrancis Ford Coppola\\n| \\n   ...  1,146,666   \n",
       "4    \\n    Director:\\nSidney Lumet\\n| \\n    Stars:\\...    701,882   \n",
       "..                                                 ...        ...   \n",
       "995  \\n    Director:\\nBlake Edwards\\n| \\n    Stars:...    168,713   \n",
       "996  \\n    Director:\\nGeorge Stevens\\n| \\n    Stars...     34,594   \n",
       "997  \\n    Director:\\nFred Zinnemann\\n| \\n    Stars...     43,868   \n",
       "998  \\n    Director:\\nAlfred Hitchcock\\n| \\n    Sta...     26,791   \n",
       "999  \\n    Director:\\nAlfred Hitchcock\\n| \\n    Sta...     52,688   \n",
       "\n",
       "                                    Vote_gross  \n",
       "0     \\nVotes:\\n2,377,480\\n| Gross:\\n$28.34M\\n  \n",
       "1    \\nVotes:\\n1,646,818\\n| Gross:\\n$134.97M\\n  \n",
       "2    \\nVotes:\\n2,341,261\\n| Gross:\\n$534.86M\\n  \n",
       "3     \\nVotes:\\n1,146,666\\n| Gross:\\n$57.30M\\n  \n",
       "4        \\nVotes:\\n701,882\\n| Gross:\\n$4.36M\\n  \n",
       "..                                         ...  \n",
       "995                        \\nVotes:\\n168,713\\n  \n",
       "996                         \\nVotes:\\n34,594\\n  \n",
       "997      \\nVotes:\\n43,868\\n| Gross:\\n$30.50M\\n  \n",
       "998                         \\nVotes:\\n26,791\\n  \n",
       "999                         \\nVotes:\\n52,688\\n  \n",
       "\n",
       "[1000 rows x 9 columns]"
      ]
     },
     "execution_count": 13,
     "metadata": {},
     "output_type": "execute_result"
    }
   ],
   "source": [
    "df"
   ]
  },
  {
   "cell_type": "code",
   "execution_count": null,
   "id": "present-collapse",
   "metadata": {},
   "outputs": [],
   "source": []
  }
 ],
 "metadata": {
  "kernelspec": {
   "display_name": "Python 3",
   "language": "python",
   "name": "python3"
  },
  "language_info": {
   "codemirror_mode": {
    "name": "ipython",
    "version": 3
   },
   "file_extension": ".py",
   "mimetype": "text/x-python",
   "name": "python",
   "nbconvert_exporter": "python",
   "pygments_lexer": "ipython3",
   "version": "3.8.5"
  }
 },
 "nbformat": 4,
 "nbformat_minor": 5
}
